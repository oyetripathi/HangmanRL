{
 "cells": [
  {
   "cell_type": "code",
   "execution_count": 1,
   "metadata": {},
   "outputs": [
    {
     "name": "stderr",
     "output_type": "stream",
     "text": [
      "2023-09-24 19:33:26.654294: I tensorflow/tsl/cuda/cudart_stub.cc:28] Could not find cuda drivers on your machine, GPU will not be used.\n",
      "2023-09-24 19:33:26.695696: I tensorflow/tsl/cuda/cudart_stub.cc:28] Could not find cuda drivers on your machine, GPU will not be used.\n",
      "2023-09-24 19:33:26.696671: I tensorflow/core/platform/cpu_feature_guard.cc:182] This TensorFlow binary is optimized to use available CPU instructions in performance-critical operations.\n",
      "To enable the following instructions: AVX2 FMA, in other operations, rebuild TensorFlow with the appropriate compiler flags.\n",
      "2023-09-24 19:33:27.583601: W tensorflow/compiler/tf2tensorrt/utils/py_utils.cc:38] TF-TRT Warning: Could not find TensorRT\n"
     ]
    }
   ],
   "source": [
    "from env import Hangman\n",
    "from dqn import Agent, Trainer\n",
    "import yaml"
   ]
  },
  {
   "cell_type": "code",
   "execution_count": 2,
   "metadata": {},
   "outputs": [],
   "source": [
    "with open(\"config.yaml\", 'r') as f:\n",
    "    config = yaml.safe_load(f)"
   ]
  },
  {
   "cell_type": "code",
   "execution_count": 3,
   "metadata": {},
   "outputs": [],
   "source": [
    "env = Hangman(\n",
    "    word_src=config[\"word_src\"],\n",
    "    num_env=config[\"num_env\"],\n",
    "    max_lives=config[\"max_lives\"],\n",
    "    win_reward=config[\"win_reward\"],\n",
    "    correct_reward=config[\"correct_reward\"],\n",
    "    repeated_guessing_penalty=config[\"repeated_guessing_penalty\"],\n",
    "    lose_reward=config[\"lose_reward\"],\n",
    "    false_reward=config[\"false_reward\"],\n",
    "    verbose=config[\"env_verbose\"]\n",
    ")\n"
   ]
  },
  {
   "cell_type": "code",
   "execution_count": 4,
   "metadata": {},
   "outputs": [],
   "source": [
    "agent = Agent(\n",
    "    vocab_size=config[\"vocab_size\"],\n",
    "    embed_size=config[\"embed_size\"],\n",
    "    num_heads=config[\"num_heads\"],\n",
    "    key_dim=config[\"key_dim\"],\n",
    "    maxlen=env.maxlen,\n",
    "    base_model_wts=config[\"base_model_wts\"]\n",
    ")"
   ]
  },
  {
   "cell_type": "code",
   "execution_count": 5,
   "metadata": {},
   "outputs": [],
   "source": [
    "trainer = Trainer(\n",
    "    gamma=config[\"gamma\"],\n",
    "    epsilon=config[\"epsilon\"],\n",
    "    epsilon_min=config[\"epsilon_min\"],\n",
    "    epsilon_max=config[\"epsilon_max\"],\n",
    "    epsilon_random_frames=config[\"epsilon_random_frames\"],\n",
    "    epsilon_greedy_frames=config[\"epsilon_greedy_frames\"],\n",
    "    max_memory_length=config[\"max_memory_length\"]\n",
    ")"
   ]
  },
  {
   "cell_type": "code",
   "execution_count": null,
   "metadata": {},
   "outputs": [],
   "source": [
    "for i in range(config[\"train_steps\"]):\n",
    "    print(\"Train Step: \", i+1)\n",
    "    trainer.train(agent, env, config[\"train_record_steps\"], config[\"epochs\"])\n",
    "    avg_rew, win_per = trainer.eval(agent, env, config[\"eval_record_steps\"])\n",
    "    print(\"Average Reward: \", avg_rew)\n",
    "    print(\"Win Percentage: \", win_per)\n",
    "    print('\\n')"
   ]
  }
 ],
 "metadata": {
  "kernelspec": {
   "display_name": "Python 3",
   "language": "python",
   "name": "python3"
  },
  "language_info": {
   "codemirror_mode": {
    "name": "ipython",
    "version": 3
   },
   "file_extension": ".py",
   "mimetype": "text/x-python",
   "name": "python",
   "nbconvert_exporter": "python",
   "pygments_lexer": "ipython3",
   "version": "3.10.12"
  },
  "orig_nbformat": 4
 },
 "nbformat": 4,
 "nbformat_minor": 2
}
